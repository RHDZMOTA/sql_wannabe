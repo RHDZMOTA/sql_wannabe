{
 "cells": [
  {
   "cell_type": "markdown",
   "metadata": {},
   "source": [
    "# Documentation for pseudo_sql"
   ]
  },
  {
   "cell_type": "markdown",
   "metadata": {},
   "source": [
    "### DEPENDECIES "
   ]
  },
  {
   "cell_type": "code",
   "execution_count": 857,
   "metadata": {
    "collapsed": true
   },
   "outputs": [],
   "source": [
    "%matplotlib inline\n",
    "\n",
    "import numpy  as np\n",
    "import pandas as pd\n",
    "import matplotlib.pyplot as plt\n",
    "from compytibility_pack.format_string import *"
   ]
  },
  {
   "cell_type": "markdown",
   "metadata": {},
   "source": [
    "### FUNCTIONS "
   ]
  },
  {
   "cell_type": "markdown",
   "metadata": {},
   "source": [
    "### findKey function\n"
   ]
  },
  {
   "cell_type": "code",
   "execution_count": 130,
   "metadata": {
    "collapsed": true
   },
   "outputs": [],
   "source": [
    "def findKey(_dict, find = 'min'):\n",
    "    '''findKey function\n",
    "    '''\n",
    "    keys = list(_dict.keys())\n",
    "    val  = list(_dict.values())\n",
    "    if find == 'min':\n",
    "        return keys[np.argmin(val)]\n",
    "    if find == 'max':\n",
    "        return keys[np.argmax(val)]\n",
    "    \n",
    "minValue = lambda _dict: findKey(_dict, 'min')\n",
    "maxValue = lambda _dict: findKey(_dict, 'max')"
   ]
  },
  {
   "cell_type": "code",
   "execution_count": 131,
   "metadata": {
    "collapsed": true
   },
   "outputs": [],
   "source": [
    "test_dict = {'a':1, 'b':20, 'c':4, 'd':-7}"
   ]
  },
  {
   "cell_type": "code",
   "execution_count": 132,
   "metadata": {
    "collapsed": false
   },
   "outputs": [
    {
     "data": {
      "text/plain": [
       "'b'"
      ]
     },
     "execution_count": 132,
     "metadata": {},
     "output_type": "execute_result"
    }
   ],
   "source": [
    "maxValue(test_dict)"
   ]
  },
  {
   "cell_type": "markdown",
   "metadata": {
    "collapsed": true
   },
   "source": [
    "### saveRelation"
   ]
  },
  {
   "cell_type": "code",
   "execution_count": 838,
   "metadata": {
    "collapsed": true
   },
   "outputs": [],
   "source": [
    "def saveRelation(arr, _path):\n",
    "    '''\n",
    "    '''\n",
    "    np.save(_path+'relation_scheme', arr)\n",
    "    "
   ]
  },
  {
   "cell_type": "code",
   "execution_count": 869,
   "metadata": {
    "collapsed": false
   },
   "outputs": [],
   "source": [
    "rel_sch =['Users--1n--UserTeam', 'Teams--1n--UserTeam','Role--1n--UserTeam','Activities--1n--Teams']\n",
    "saveRelation(rel_sch, 'sql_example/')"
   ]
  },
  {
   "cell_type": "code",
   "execution_count": 840,
   "metadata": {
    "collapsed": true
   },
   "outputs": [],
   "source": [
    "def loadRelation(_path):\n",
    "    return list(np.load(_path+'relation_scheme.npy'))"
   ]
  },
  {
   "cell_type": "code",
   "execution_count": 870,
   "metadata": {
    "collapsed": false
   },
   "outputs": [
    {
     "data": {
      "text/plain": [
       "['Users--1n--UserTeam',\n",
       " 'Teams--1n--UserTeam',\n",
       " 'Role--1n--UserTeam',\n",
       " 'Activities--1n--Teams']"
      ]
     },
     "execution_count": 870,
     "metadata": {},
     "output_type": "execute_result"
    }
   ],
   "source": [
    "loadRelation('sql_example/')"
   ]
  },
  {
   "cell_type": "markdown",
   "metadata": {},
   "source": [
    "### CLASSES "
   ]
  },
  {
   "cell_type": "markdown",
   "metadata": {},
   "source": [
    "### database \n",
    "Database class. "
   ]
  },
  {
   "cell_type": "code",
   "execution_count": 831,
   "metadata": {
    "collapsed": false
   },
   "outputs": [],
   "source": [
    "class database:\n",
    "    \n",
    "    desc = 'This is a database instance.'\n",
    "    \n",
    "    def __init__(self, reference_path = 'sql_like/' , table_names = 'all', relation_scheme = []):\n",
    "        '''init\n",
    "        ---- inputs\n",
    "        db: list containing table names \n",
    "        relation_scheme: list containing the relations among tables as string\n",
    "        '''\n",
    "        self.reference_path = reference_path\n",
    "        \n",
    "        db = {}\n",
    "        for i in table_names:\n",
    "            db[i] = reference_path+i+'.csv'\n",
    "        \n",
    "        self.ref = db\n",
    "        \n",
    "        self.relation_scheme = relation_scheme\n",
    "        self.fast_read = False \n",
    "        \n",
    "        const_dict = {}\n",
    "        if type(db) == type(''):\n",
    "            \n",
    "            # search tables under subdir named sql_like (save names)\n",
    "            \n",
    "            # create dictionary \n",
    "            \n",
    "            # save results \n",
    "            print('TODO.')\n",
    "    \n",
    "    def availableTables(self, silence = False, ret_rn = False):\n",
    "        '''availableTables functions\n",
    "        \n",
    "        ---- inputs \n",
    "        \n",
    "        ---- outputs\n",
    "        \n",
    "        '''\n",
    "        table_names = []\n",
    "        for i in self.ref.keys():\n",
    "            table_names.append(i)\n",
    "            if not silence:\n",
    "                print(i)\n",
    "        if ret_rn:\n",
    "            return table_names\n",
    "\n",
    "        \n",
    "    def updateFastRead(self):\n",
    "        '''updateFastRead\n",
    "        '''\n",
    "        pass\n",
    "        \n",
    "    def getCols(self, table_pd, table_name = '', colnames = []):\n",
    "        '''getCols\n",
    "        Query columns \n",
    "        \n",
    "        ---- inputs \n",
    "        \n",
    "        ---- outputs \n",
    "        \n",
    "        '''\n",
    "        \n",
    "        cn   = []\n",
    "        for col in colnames:\n",
    "            \n",
    "            # check if a specif table was requested\n",
    "            '''\n",
    "            if '.' in col:\n",
    "                col = col.split('.')\n",
    "                if col[0] != table_name:\n",
    "                    continue\n",
    "                col = col[1]\n",
    "            '''\n",
    "            \n",
    "            # check if column exists \n",
    "            if col in table_pd.columns:\n",
    "                cn.append(col)\n",
    "                \n",
    "        return table_pd[cn]\n",
    "            \n",
    "    def readTable(self, table, colnames = []):\n",
    "        '''readTable function\n",
    "        Read a given table in memory. \n",
    "        \n",
    "        ---- inputs\n",
    "        table: string containing the table's name.\n",
    "        \n",
    "        ---- outputs\n",
    "        A pandas dataframe with the information of the table.\n",
    "        '''\n",
    "        \n",
    "        # TODO: verify if table exists \n",
    "        table_path = self.ref[table]\n",
    "        \n",
    "        if len(colnames) == 0:\n",
    "            if self.fast_read:\n",
    "                return pd.read_pickle('{}fastread/{}.pkl'.format(self.reference_path,table))\n",
    "            return pd.read_csv(table_path)\n",
    "        \n",
    "        return self.getCols(pd.read_csv(table_path),table_path,colnames)\n",
    "    \n",
    "    def createFastRead(self):\n",
    "        '''createFastRead function\n",
    "        '''\n",
    "        \n",
    "        # create directory \n",
    "        # TODO\n",
    "        \n",
    "        # get available tables\n",
    "        at = self.availableTables(silence = True, ret_rn = True)\n",
    "        \n",
    "        # save as pickle \n",
    "        for table in at: \n",
    "            self.readTable(table).to_pickle('{}fastread/{}.pkl'.format(self.reference_path,table))\n",
    "        \n",
    "        # enable\n",
    "        self.fast_read = True \n",
    "\n",
    "    def tablesAndCols(self, silence = False, ret_rn = False):\n",
    "        '''\n",
    "        '''\n",
    "        table_list = self.availableTables(silence = True, ret_rn = True)\n",
    "        \n",
    "        ref_dict = {}\n",
    "        for tab in table_list:\n",
    "            a = self.readTable(tab)\n",
    "            string = '\\n {} :::: {}\\n'\n",
    "            ref_dict[tab] = list(a.columns)\n",
    "            if not silence:\n",
    "                print(string.format(tab, ref_dict[tab]))\n",
    "            \n",
    "        if ret_rn:\n",
    "            return ref_dict\n",
    "    \n",
    "    def _where(self, table, condition):\n",
    "        '''_where function\n",
    "        '''\n",
    "        \n",
    "        # one table without condition\n",
    "        if condition == '':\n",
    "            return table\n",
    "        \n",
    "        return table.query(condition)\n",
    "            \n",
    "        \n",
    "        \n",
    "    def findRelation(self, table_name1, table_name2, silence = True):\n",
    "        '''findRelation\n",
    "        Not efficient. \n",
    "        '''\n",
    "        rs = db.relation_scheme\n",
    "        \n",
    "        at = self.availableTables( silence = True, ret_rn = True)\n",
    "        if (not (table_name1 in at)) or (not (table_name2 in at)):\n",
    "            if not silence:\n",
    "                print('Warning: table not in database.')\n",
    "            #return None\n",
    "        \n",
    "        def findAux(val, string):\n",
    "            st = string.split('--')\n",
    "            for s in st:\n",
    "                if val == s:\n",
    "                    return True\n",
    "            return False\n",
    "        \n",
    "        def findIn(table_name, string):\n",
    "            for t in table_name.split('REF'):\n",
    "                if (findAux(t, string)):\n",
    "                    return True \n",
    "            return False\n",
    "        \n",
    "        def findInd(t1, t2, string):\n",
    "            \n",
    "            rel = string[string.find('--')+2:string.find('--')+4]\n",
    "            p1 = -1\n",
    "            p2 = -1\n",
    "            \n",
    "            for t in t1.split('REF'):\n",
    "                if t in string:\n",
    "                    p1 = string.find(t)\n",
    "            \n",
    "            p2 = string.find(t2)\n",
    "            if p1 > p2:\n",
    "                return rel[-1]+rel[0]\n",
    "            return rel \n",
    "        \n",
    "        save_rel = None \n",
    "        for r in rs:\n",
    "\n",
    "            if findIn(table_name1, r) and findIn(table_name2, r):\n",
    "                save_rel = r\n",
    "        \n",
    "        if type(save_rel) == type(None):\n",
    "            print('Warning: Relation not found.')\n",
    "            return 0\n",
    "        \n",
    "        return findInd(table_name1, table_name2, save_rel)\n",
    "    \n",
    "    def constrTable(self, tables):\n",
    "        '''\n",
    "        '''\n",
    "        \n",
    "        # dictionary of tables and status \n",
    "        table_status = {}\n",
    "        for t in tables:\n",
    "            table_status[t] = 1\n",
    "            \n",
    "        # function to make a table from t1 -- 1n -- t2\n",
    "        def makeTable(t1, t2, n1, n2):\n",
    "            \n",
    "            col1 = t1.columns\n",
    "            col2 = t2.columns\n",
    "            \n",
    "            isId = lambda val: 'id_' in val\n",
    "            \n",
    "            def getIds(cols):\n",
    "                res = []\n",
    "                for c in cols:\n",
    "                    if isId(c):\n",
    "                        res.append(c)\n",
    "                return res \n",
    "            \n",
    "            idc1 = getIds(col1)\n",
    "            idc2 = getIds(col2)\n",
    "            \n",
    "            \n",
    "            def repVal(list1, list2):\n",
    "                for i in list1:\n",
    "                    if i in list2:\n",
    "                        return i\n",
    "            axis_col = repVal(idc1, idc2)\n",
    "            \n",
    "            def changeColName(axis_col, colnames,n):\n",
    "                c = []\n",
    "                for i in colnames:\n",
    "                    if len(i.split('REF')) > 1:\n",
    "                        #i = i.split('REF')[-1]\n",
    "                        c.append(i)\n",
    "                        continue\n",
    "                    if not 'id' in i:\n",
    "                        c.append(n+'REF'+i)\n",
    "                    else:\n",
    "                        c.append(i)\n",
    "                return c\n",
    "            \n",
    "            t1.columns = changeColName(axis_col, col1, n1)\n",
    "            t2.columns = changeColName(axis_col, col2, n2)\n",
    "            \n",
    "            \n",
    "            def extract(_id):\n",
    "                return np.asscalar(t1.query('{} == {}'.format(axis_col,_id))[c].values)\n",
    "            \n",
    "            \n",
    "            for c in t1.columns:\n",
    "                if c == axis_col:\n",
    "                    continue \n",
    "                    \n",
    "                t2[c] = t2[axis_col].apply(extract)\n",
    "                \n",
    "            return t2\n",
    "        \n",
    "        # function to check if all status in table_status are zero\n",
    "        def checkStatus(table_status):\n",
    "            st = 0\n",
    "            for k in table_status.keys():\n",
    "                st += table_status[k]\n",
    "            if st == 0:\n",
    "                return True\n",
    "            return False \n",
    "        \n",
    "        # recursive function to find match and construct final table\n",
    "        def findMatch(table,table_name,table_status):\n",
    "\n",
    "            if checkStatus(table_status):\n",
    "                return table \n",
    "            \n",
    "            for t in table_status.keys():\n",
    "                # invalid status \n",
    "                if not table_status[t]:\n",
    "                    continue\n",
    "                # skip same \n",
    "                if t == table_name:\n",
    "                    table_status[t] = 0\n",
    "                    continue \n",
    "                # determine relation\n",
    "                rel = self.findRelation(table_name, t)\n",
    "                if type(rel) == type(None):\n",
    "                    continue\n",
    "                break\n",
    "            \n",
    "            if type(rel) == type(None):\n",
    "                return table\n",
    "            \n",
    "            rel = self.findRelation(table_name,t)\n",
    "            new_name = table_name+'REF'+t\n",
    "            \n",
    "            if rel == '1n':\n",
    "                table_status[t] = 0\n",
    "                new_table = makeTable(table, self.readTable(t), table_name, t)\n",
    "                \n",
    "            if rel == 'n1':\n",
    "                table_status[t] = 0\n",
    "                new_table = makeTable(self.readTable(t),table,t, table_name)\n",
    "                \n",
    "            table_status[new_name] = 0\n",
    "            \n",
    "            final_table = findMatch(new_table,new_name,table_status)\n",
    "            return final_table\n",
    "        \n",
    "        table_status[tables[0]] = 0\n",
    "        temp = findMatch(self.readTable(tables[0]),tables[0],table_status)\n",
    "        return temp\n",
    "        \n",
    "    def SELECT(self, colnames = [], _as = [], FROM = [], WHERE = '', _reset = True):\n",
    "        '''SELECT function\n",
    "        add desc.\n",
    "        \n",
    "        ---- inputs\n",
    "        colnames: list containing string \n",
    "        ''' \n",
    "        \n",
    "        # function to relapce dots in a string by 'REF'\n",
    "        # e.g. \"this is a string with a dot (.)\" --> \"this is a string with a dot (REF)\"\n",
    "        def replaceDotByREF(string):\n",
    "            string = string.split('.')\n",
    "            if len(string) > 1:\n",
    "                tail = ''\n",
    "                for i in string[1:]:\n",
    "                    tail += 'REF'+i\n",
    "                new_string = string[0]+tail\n",
    "                return replaceDotByREF(new_string)\n",
    "            return string[0]\n",
    "            \n",
    "        # format colnames \n",
    "        new_colnames = []\n",
    "        for c in colnames:\n",
    "            new_colnames.append(replaceDotByREF(c))  \n",
    "        colnames = new_colnames \n",
    "        \n",
    "        # format where statement\n",
    "        WHERE = replaceDotByREF(WHERE)\n",
    "        \n",
    "            \n",
    "        if len(FROM) == 1:\n",
    "            return self.getCols(\n",
    "                         self._where(\n",
    "                             self.readTable(FROM[0], colnames = []), \n",
    "                             WHERE),colnames = colnames)\n",
    "        \n",
    "        if len(_as) == 0:\n",
    "            _as = colnames\n",
    "        else:\n",
    "            new_as = []\n",
    "            for i,j in zip(colnames, _as):\n",
    "                if j == '':\n",
    "                    new_as.append(i)\n",
    "                else:\n",
    "                    new_as.append(j)\n",
    "                    \n",
    "        tbl = self.getCols(self._where(self.constrTable(FROM), WHERE),colnames = colnames)\n",
    "        tbl.columns = new_as\n",
    "        \n",
    "        if _reset:\n",
    "            tbl.reset_index(inplace = True, drop = True)\n",
    "            \n",
    "        return tbl\n",
    "        "
   ]
  },
  {
   "cell_type": "markdown",
   "metadata": {},
   "source": [
    "Initialize a database instance by specifying the reference path for the tables (in  csv), the table names and the relation scheme. "
   ]
  },
  {
   "cell_type": "code",
   "execution_count": 946,
   "metadata": {
    "collapsed": false
   },
   "outputs": [],
   "source": [
    "db = database(\n",
    "    reference_path  = 'sql_example/',\n",
    "    table_names     = ['Users', 'Teams','UserTeam','Role','Activities'],\n",
    "    relation_scheme = loadRelation('sql_example/')\n",
    ")"
   ]
  },
  {
   "cell_type": "markdown",
   "metadata": {},
   "source": [
    "Create and enable \"fast read\" to copy the .csv files into a subdirectoy with .pkl format to improve reading performance. "
   ]
  },
  {
   "cell_type": "code",
   "execution_count": 947,
   "metadata": {
    "collapsed": false
   },
   "outputs": [],
   "source": [
    "db.createFastRead()"
   ]
  },
  {
   "cell_type": "markdown",
   "metadata": {},
   "source": [
    "Check the tables available in the database instance and the relation scheme. "
   ]
  },
  {
   "cell_type": "code",
   "execution_count": 948,
   "metadata": {
    "collapsed": false
   },
   "outputs": [
    {
     "name": "stdout",
     "output_type": "stream",
     "text": [
      "\n",
      "Available tables:\n",
      "\n",
      ">> ['UserTeam', 'Teams', 'Role', 'Activities', 'Users']\n",
      "\n",
      " Relation Scheme:\n",
      "\n",
      ">> ['Users--1n--UserTeam', 'Teams--1n--UserTeam', 'Role--1n--UserTeam', 'Activities--1n--Teams']\n"
     ]
    }
   ],
   "source": [
    "string = '\\nAvailable tables:\\n\\n>> {}\\n\\n Relation Scheme:\\n\\n>> {}'\n",
    "\n",
    "print(formatString(string,\n",
    "                   [db.availableTables(silence=True,ret_rn=True),\n",
    "                    db.relation_scheme]))"
   ]
  },
  {
   "cell_type": "markdown",
   "metadata": {},
   "source": [
    "View the columns for each table. "
   ]
  },
  {
   "cell_type": "code",
   "execution_count": 949,
   "metadata": {
    "collapsed": false
   },
   "outputs": [
    {
     "name": "stdout",
     "output_type": "stream",
     "text": [
      "\n",
      " UserTeam :::: ['id_userteam', 'id_user', 'id_team', 'id_role']\n",
      "\n",
      "\n",
      " Teams :::: ['id_team', 'id_activity', 'color', 'score']\n",
      "\n",
      "\n",
      " Role :::: ['id_role', 'description']\n",
      "\n",
      "\n",
      " Activities :::: ['id_activity', 'description']\n",
      "\n",
      "\n",
      " Users :::: ['id_user', 'name', 'sex', 'age', 'weight', 'height', 'nationality', 'ethnic']\n",
      "\n"
     ]
    }
   ],
   "source": [
    "db.tablesAndCols()"
   ]
  },
  {
   "cell_type": "markdown",
   "metadata": {},
   "source": [
    "Handle tables in memory as pandas objects. This allwos a higher level of data manipulation."
   ]
  },
  {
   "cell_type": "code",
   "execution_count": 950,
   "metadata": {
    "collapsed": false
   },
   "outputs": [
    {
     "data": {
      "text/html": [
       "<div>\n",
       "<table border=\"1\" class=\"dataframe\">\n",
       "  <thead>\n",
       "    <tr style=\"text-align: right;\">\n",
       "      <th></th>\n",
       "      <th>id_user</th>\n",
       "      <th>name</th>\n",
       "      <th>sex</th>\n",
       "      <th>age</th>\n",
       "      <th>weight</th>\n",
       "      <th>height</th>\n",
       "      <th>nationality</th>\n",
       "      <th>ethnic</th>\n",
       "    </tr>\n",
       "  </thead>\n",
       "  <tbody>\n",
       "    <tr>\n",
       "      <th>0</th>\n",
       "      <td>1</td>\n",
       "      <td>Ana</td>\n",
       "      <td>Female</td>\n",
       "      <td>21</td>\n",
       "      <td>54</td>\n",
       "      <td>1.69</td>\n",
       "      <td>mexican</td>\n",
       "      <td>latin</td>\n",
       "    </tr>\n",
       "    <tr>\n",
       "      <th>1</th>\n",
       "      <td>2</td>\n",
       "      <td>Rodrigo</td>\n",
       "      <td>Male</td>\n",
       "      <td>22</td>\n",
       "      <td>76</td>\n",
       "      <td>1.75</td>\n",
       "      <td>mexican</td>\n",
       "      <td>latin</td>\n",
       "    </tr>\n",
       "    <tr>\n",
       "      <th>2</th>\n",
       "      <td>3</td>\n",
       "      <td>Daniel</td>\n",
       "      <td>Male</td>\n",
       "      <td>20</td>\n",
       "      <td>74</td>\n",
       "      <td>7.70</td>\n",
       "      <td>mexican</td>\n",
       "      <td>latin</td>\n",
       "    </tr>\n",
       "    <tr>\n",
       "      <th>3</th>\n",
       "      <td>4</td>\n",
       "      <td>Manuel</td>\n",
       "      <td>Male</td>\n",
       "      <td>15</td>\n",
       "      <td>56</td>\n",
       "      <td>1.76</td>\n",
       "      <td>mexican</td>\n",
       "      <td>latin</td>\n",
       "    </tr>\n",
       "    <tr>\n",
       "      <th>4</th>\n",
       "      <td>5</td>\n",
       "      <td>Gabriela</td>\n",
       "      <td>Female</td>\n",
       "      <td>16</td>\n",
       "      <td>43</td>\n",
       "      <td>1.53</td>\n",
       "      <td>mexican</td>\n",
       "      <td>latin</td>\n",
       "    </tr>\n",
       "    <tr>\n",
       "      <th>5</th>\n",
       "      <td>6</td>\n",
       "      <td>Jaquelin</td>\n",
       "      <td>Female</td>\n",
       "      <td>15</td>\n",
       "      <td>53</td>\n",
       "      <td>1.64</td>\n",
       "      <td>mexican</td>\n",
       "      <td>latin</td>\n",
       "    </tr>\n",
       "    <tr>\n",
       "      <th>6</th>\n",
       "      <td>7</td>\n",
       "      <td>Teresa</td>\n",
       "      <td>Female</td>\n",
       "      <td>24</td>\n",
       "      <td>55</td>\n",
       "      <td>1.68</td>\n",
       "      <td>mexican</td>\n",
       "      <td>latin</td>\n",
       "    </tr>\n",
       "  </tbody>\n",
       "</table>\n",
       "</div>"
      ],
      "text/plain": [
       "   id_user      name     sex  age  weight  height nationality ethnic\n",
       "0        1       Ana  Female   21      54    1.69     mexican  latin\n",
       "1        2   Rodrigo    Male   22      76    1.75     mexican  latin\n",
       "2        3    Daniel    Male   20      74    7.70     mexican  latin\n",
       "3        4    Manuel    Male   15      56    1.76     mexican  latin\n",
       "4        5  Gabriela  Female   16      43    1.53     mexican  latin\n",
       "5        6  Jaquelin  Female   15      53    1.64     mexican  latin\n",
       "6        7    Teresa  Female   24      55    1.68     mexican  latin"
      ]
     },
     "execution_count": 950,
     "metadata": {},
     "output_type": "execute_result"
    }
   ],
   "source": [
    "db.readTable('Users')"
   ]
  },
  {
   "cell_type": "code",
   "execution_count": 951,
   "metadata": {
    "collapsed": false
   },
   "outputs": [
    {
     "data": {
      "image/png": "[encoded data removed]",
      "text/plain": [
       "<matplotlib.figure.Figure at 0x8bba110>"
      ]
     },
     "metadata": {},
     "output_type": "display_data"
    }
   ],
   "source": [
    "db.readTable('Users').sex.value_counts().plot(kind = 'bar')\n",
    "plt.title(\"Bar Plot: Frequency of user's sex\")\n",
    "plt.ylabel('Observations')\n",
    "plt.grid()"
   ]
  },
  {
   "cell_type": "code",
   "execution_count": 952,
   "metadata": {
    "collapsed": false
   },
   "outputs": [
    {
     "data": {
      "image/png": "[encoded data removed]",
      "text/plain": [
       "<matplotlib.figure.Figure at 0x8bd9bd0>"
      ]
     },
     "metadata": {},
     "output_type": "display_data"
    }
   ],
   "source": [
    "db.readTable('Users').weight.plot(kind = 'kde')\n",
    "plt.title('Density distribution for weight variable')\n",
    "plt.xlabel('weight in kg')\n",
    "plt.grid()"
   ]
  },
  {
   "cell_type": "markdown",
   "metadata": {},
   "source": [
    "Find relation among two tables. "
   ]
  },
  {
   "cell_type": "code",
   "execution_count": 953,
   "metadata": {
    "collapsed": false
   },
   "outputs": [
    {
     "name": "stdout",
     "output_type": "stream",
     "text": [
      "The relation between \"Role\" and \"UserTeam\" is 1n.\n"
     ]
    }
   ],
   "source": [
    "table_test1, table_test2 = 'Role', 'UserTeam'\n",
    "\n",
    "string = 'The relation between \"{}\" and \"{}\" is {}.'\n",
    "print(stringFormat(string, [table_test1, table_test2, db.findRelation(table_test1, table_test2)]))\n"
   ]
  },
  {
   "cell_type": "markdown",
   "metadata": {},
   "source": [
    "\"Construct\" or join two tables by using their \"axis_column\" (common id column between both).\n",
    "\n",
    "**Note** REF as reference. "
   ]
  },
  {
   "cell_type": "code",
   "execution_count": 954,
   "metadata": {
    "collapsed": false
   },
   "outputs": [
    {
     "name": "stdout",
     "output_type": "stream",
     "text": [
      "\n",
      "   id_team  id_activity  color  score\n",
      "0        1            1  green     10\n",
      "1        2            2   blue      5\n",
      "2        3            3    red      8\n",
      "\n",
      "   id_activity                 description\n",
      "0            1               just have fun\n",
      "1            2  program a self-driving car\n",
      "2            3    organize a balloon-party\n"
     ]
    }
   ],
   "source": [
    "print(stringFormat('\\n{}\\n\\n{}',[db.readTable('Teams'),db.readTable('Activities')]))\n"
   ]
  },
  {
   "cell_type": "code",
   "execution_count": 955,
   "metadata": {
    "collapsed": false
   },
   "outputs": [
    {
     "data": {
      "text/html": [
       "<div>\n",
       "<table border=\"1\" class=\"dataframe\">\n",
       "  <thead>\n",
       "    <tr style=\"text-align: right;\">\n",
       "      <th></th>\n",
       "      <th>id_team</th>\n",
       "      <th>id_activity</th>\n",
       "      <th>TeamsREFcolor</th>\n",
       "      <th>TeamsREFscore</th>\n",
       "      <th>ActivitiesREFdescription</th>\n",
       "    </tr>\n",
       "  </thead>\n",
       "  <tbody>\n",
       "    <tr>\n",
       "      <th>0</th>\n",
       "      <td>1</td>\n",
       "      <td>1</td>\n",
       "      <td>green</td>\n",
       "      <td>10</td>\n",
       "      <td>just have fun</td>\n",
       "    </tr>\n",
       "    <tr>\n",
       "      <th>1</th>\n",
       "      <td>2</td>\n",
       "      <td>2</td>\n",
       "      <td>blue</td>\n",
       "      <td>5</td>\n",
       "      <td>program a self-driving car</td>\n",
       "    </tr>\n",
       "    <tr>\n",
       "      <th>2</th>\n",
       "      <td>3</td>\n",
       "      <td>3</td>\n",
       "      <td>red</td>\n",
       "      <td>8</td>\n",
       "      <td>organize a balloon-party</td>\n",
       "    </tr>\n",
       "  </tbody>\n",
       "</table>\n",
       "</div>"
      ],
      "text/plain": [
       "   id_team  id_activity TeamsREFcolor  TeamsREFscore  \\\n",
       "0        1            1         green             10   \n",
       "1        2            2          blue              5   \n",
       "2        3            3           red              8   \n",
       "\n",
       "     ActivitiesREFdescription  \n",
       "0               just have fun  \n",
       "1  program a self-driving car  \n",
       "2    organize a balloon-party  "
      ]
     },
     "execution_count": 955,
     "metadata": {},
     "output_type": "execute_result"
    }
   ],
   "source": [
    "db.constrTable(['Teams', 'Activities'])"
   ]
  },
  {
   "cell_type": "markdown",
   "metadata": {},
   "source": [
    "Simulate sql query style."
   ]
  },
  {
   "cell_type": "code",
   "execution_count": 956,
   "metadata": {
    "collapsed": false
   },
   "outputs": [
    {
     "data": {
      "text/html": [
       "<div>\n",
       "<table border=\"1\" class=\"dataframe\">\n",
       "  <thead>\n",
       "    <tr style=\"text-align: right;\">\n",
       "      <th></th>\n",
       "      <th>User's Name</th>\n",
       "      <th>Team color</th>\n",
       "    </tr>\n",
       "  </thead>\n",
       "  <tbody>\n",
       "    <tr>\n",
       "      <th>0</th>\n",
       "      <td>Ana</td>\n",
       "      <td>green</td>\n",
       "    </tr>\n",
       "    <tr>\n",
       "      <th>1</th>\n",
       "      <td>Rodrigo</td>\n",
       "      <td>green</td>\n",
       "    </tr>\n",
       "    <tr>\n",
       "      <th>2</th>\n",
       "      <td>Daniel</td>\n",
       "      <td>blue</td>\n",
       "    </tr>\n",
       "    <tr>\n",
       "      <th>3</th>\n",
       "      <td>Manuel</td>\n",
       "      <td>blue</td>\n",
       "    </tr>\n",
       "    <tr>\n",
       "      <th>4</th>\n",
       "      <td>Manuel</td>\n",
       "      <td>red</td>\n",
       "    </tr>\n",
       "    <tr>\n",
       "      <th>5</th>\n",
       "      <td>Gabriela</td>\n",
       "      <td>red</td>\n",
       "    </tr>\n",
       "    <tr>\n",
       "      <th>6</th>\n",
       "      <td>Jaquelin</td>\n",
       "      <td>red</td>\n",
       "    </tr>\n",
       "    <tr>\n",
       "      <th>7</th>\n",
       "      <td>Gabriela</td>\n",
       "      <td>blue</td>\n",
       "    </tr>\n",
       "  </tbody>\n",
       "</table>\n",
       "</div>"
      ],
      "text/plain": [
       "  User's Name Team color\n",
       "0         Ana      green\n",
       "1     Rodrigo      green\n",
       "2      Daniel       blue\n",
       "3      Manuel       blue\n",
       "4      Manuel        red\n",
       "5    Gabriela        red\n",
       "6    Jaquelin        red\n",
       "7    Gabriela       blue"
      ]
     },
     "execution_count": 956,
     "metadata": {},
     "output_type": "execute_result"
    }
   ],
   "source": [
    "db.SELECT(colnames = ['Users.name', 'Teams.color'], \n",
    "          _as      = [\"User's Name\",\"Team color\"],\n",
    "          \n",
    "          FROM     = ['Users', 'UserTeam','Teams'], \n",
    "          WHERE    = ''\n",
    "          \n",
    "         )\n"
   ]
  },
  {
   "cell_type": "code",
   "execution_count": 957,
   "metadata": {
    "collapsed": false
   },
   "outputs": [
    {
     "data": {
      "text/html": [
       "<div>\n",
       "<table border=\"1\" class=\"dataframe\">\n",
       "  <thead>\n",
       "    <tr style=\"text-align: right;\">\n",
       "      <th></th>\n",
       "      <th>Name</th>\n",
       "      <th>Role</th>\n",
       "      <th>Team color</th>\n",
       "      <th>General Activity</th>\n",
       "    </tr>\n",
       "  </thead>\n",
       "  <tbody>\n",
       "    <tr>\n",
       "      <th>0</th>\n",
       "      <td>Ana</td>\n",
       "      <td>secretary</td>\n",
       "      <td>green</td>\n",
       "      <td>just have fun</td>\n",
       "    </tr>\n",
       "    <tr>\n",
       "      <th>1</th>\n",
       "      <td>Rodrigo</td>\n",
       "      <td>team leader</td>\n",
       "      <td>green</td>\n",
       "      <td>just have fun</td>\n",
       "    </tr>\n",
       "  </tbody>\n",
       "</table>\n",
       "</div>"
      ],
      "text/plain": [
       "      Name         Role Team color General Activity\n",
       "0      Ana    secretary      green    just have fun\n",
       "1  Rodrigo  team leader      green    just have fun"
      ]
     },
     "execution_count": 957,
     "metadata": {},
     "output_type": "execute_result"
    }
   ],
   "source": [
    "db.SELECT(colnames = ['Users.name','Role.description','Teams.color', 'Activities.description'], \n",
    "          _as      = ['Name','Role','Team color','General Activity'],\n",
    "          \n",
    "          FROM     = ['Users','UserTeam', 'Role','Teams','Activities'], \n",
    "          WHERE    = 'Teams.color == \"green\"'\n",
    "          \n",
    "         )"
   ]
  },
  {
   "cell_type": "code",
   "execution_count": null,
   "metadata": {
    "collapsed": true
   },
   "outputs": [],
   "source": []
  },
  {
   "cell_type": "code",
   "execution_count": null,
   "metadata": {
    "collapsed": true
   },
   "outputs": [],
   "source": []
  }
 ],
 "metadata": {
  "anaconda-cloud": {},
  "kernelspec": {
   "display_name": "Python [conda root]",
   "language": "python",
   "name": "conda-root-py"
  },
  "language_info": {
   "codemirror_mode": {
    "name": "ipython",
    "version": 3
   },
   "file_extension": ".py",
   "mimetype": "text/x-python",
   "name": "python",
   "nbconvert_exporter": "python",
   "pygments_lexer": "ipython3",
   "version": "3.5.2"
  }
 },
 "nbformat": 4,
 "nbformat_minor": 1
}
